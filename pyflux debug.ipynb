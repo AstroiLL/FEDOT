{
 "cells": [
  {
   "cell_type": "code",
   "execution_count": 1,
   "metadata": {},
   "outputs": [],
   "source": [
    "import numpy as np\n",
    "import pyflux as pf\n",
    "import pandas as pd\n",
    "from pandas_datareader import DataReader\n",
    "from datetime import datetime\n",
    "import matplotlib.pyplot as plt"
   ]
  },
  {
   "cell_type": "code",
   "execution_count": 12,
   "metadata": {},
   "outputs": [],
   "source": [
    "jpm = DataReader('JPM',  'yahoo', datetime(2006,1,1), datetime(2016,3,10))\n",
    "returns = pd.DataFrame(np.diff(np.log(jpm['Adj Close'].values)))\n",
    "returns.index = jpm.index.values[1:jpm.index.values.shape[0]]\n",
    "returns.columns = ['JPM Returns']"
   ]
  },
  {
   "cell_type": "code",
   "execution_count": 13,
   "metadata": {},
   "outputs": [],
   "source": [
    "returns.columns = ['JPM_Returns']"
   ]
  },
  {
   "cell_type": "code",
   "execution_count": 14,
   "metadata": {},
   "outputs": [
    {
     "data": {
      "text/html": [
       "<div>\n",
       "<style scoped>\n",
       "    .dataframe tbody tr th:only-of-type {\n",
       "        vertical-align: middle;\n",
       "    }\n",
       "\n",
       "    .dataframe tbody tr th {\n",
       "        vertical-align: top;\n",
       "    }\n",
       "\n",
       "    .dataframe thead th {\n",
       "        text-align: right;\n",
       "    }\n",
       "</style>\n",
       "<table border=\"1\" class=\"dataframe\">\n",
       "  <thead>\n",
       "    <tr style=\"text-align: right;\">\n",
       "      <th></th>\n",
       "      <th>JPM_Returns</th>\n",
       "    </tr>\n",
       "  </thead>\n",
       "  <tbody>\n",
       "    <tr>\n",
       "      <th>2006-01-04</th>\n",
       "      <td>-0.005789</td>\n",
       "    </tr>\n",
       "    <tr>\n",
       "      <th>2006-01-05</th>\n",
       "      <td>0.003024</td>\n",
       "    </tr>\n",
       "    <tr>\n",
       "      <th>2006-01-06</th>\n",
       "      <td>0.007021</td>\n",
       "    </tr>\n",
       "    <tr>\n",
       "      <th>2006-01-09</th>\n",
       "      <td>0.016111</td>\n",
       "    </tr>\n",
       "    <tr>\n",
       "      <th>2006-01-10</th>\n",
       "      <td>0.001474</td>\n",
       "    </tr>\n",
       "    <tr>\n",
       "      <th>...</th>\n",
       "      <td>...</td>\n",
       "    </tr>\n",
       "    <tr>\n",
       "      <th>2016-03-04</th>\n",
       "      <td>0.001500</td>\n",
       "    </tr>\n",
       "    <tr>\n",
       "      <th>2016-03-07</th>\n",
       "      <td>-0.001834</td>\n",
       "    </tr>\n",
       "    <tr>\n",
       "      <th>2016-03-08</th>\n",
       "      <td>-0.019542</td>\n",
       "    </tr>\n",
       "    <tr>\n",
       "      <th>2016-03-09</th>\n",
       "      <td>0.005768</td>\n",
       "    </tr>\n",
       "    <tr>\n",
       "      <th>2016-03-10</th>\n",
       "      <td>-0.008664</td>\n",
       "    </tr>\n",
       "  </tbody>\n",
       "</table>\n",
       "<p>2563 rows × 1 columns</p>\n",
       "</div>"
      ],
      "text/plain": [
       "            JPM_Returns\n",
       "2006-01-04    -0.005789\n",
       "2006-01-05     0.003024\n",
       "2006-01-06     0.007021\n",
       "2006-01-09     0.016111\n",
       "2006-01-10     0.001474\n",
       "...                 ...\n",
       "2016-03-04     0.001500\n",
       "2016-03-07    -0.001834\n",
       "2016-03-08    -0.019542\n",
       "2016-03-09     0.005768\n",
       "2016-03-10    -0.008664\n",
       "\n",
       "[2563 rows x 1 columns]"
      ]
     },
     "execution_count": 14,
     "metadata": {},
     "output_type": "execute_result"
    }
   ],
   "source": [
    "returns"
   ]
  },
  {
   "cell_type": "code",
   "execution_count": 15,
   "metadata": {},
   "outputs": [
    {
     "name": "stdout",
     "output_type": "stream",
     "text": [
      "GARCH(1,1)                                                                                                \n",
      "======================================================= ==================================================\n",
      "Dependent Variable: JPM_Returns                         Method: MLE                                       \n",
      "Start Date: 2006-01-05 00:00:00                         Log Likelihood: 6594.7925                         \n",
      "End Date: 2016-03-10 00:00:00                           AIC: -13181.585                                   \n",
      "Number of observations: 2562                            BIC: -13158.1908                                  \n",
      "==========================================================================================================\n",
      "Latent Variable                          Estimate   Std Error  z        P>|z|    95% C.I.                 \n",
      "======================================== ========== ========== ======== ======== =========================\n",
      "Vol Constant                             0.0                                                              \n",
      "q(1)                                     0.0933                                                           \n",
      "p(1)                                     0.9013                                                           \n",
      "Returns Constant                         0.0009     0.0065     0.1359   0.8919   (-0.0119 | 0.0137)       \n",
      "==========================================================================================================\n"
     ]
    }
   ],
   "source": [
    "model = pf.GARCH(returns,p=1,q=1)\n",
    "x = model.fit()\n",
    "x.summary()"
   ]
  },
  {
   "cell_type": "code",
   "execution_count": 16,
   "metadata": {},
   "outputs": [
    {
     "data": {
      "text/html": [
       "<div>\n",
       "<style scoped>\n",
       "    .dataframe tbody tr th:only-of-type {\n",
       "        vertical-align: middle;\n",
       "    }\n",
       "\n",
       "    .dataframe tbody tr th {\n",
       "        vertical-align: top;\n",
       "    }\n",
       "\n",
       "    .dataframe thead th {\n",
       "        text-align: right;\n",
       "    }\n",
       "</style>\n",
       "<table border=\"1\" class=\"dataframe\">\n",
       "  <thead>\n",
       "    <tr style=\"text-align: right;\">\n",
       "      <th></th>\n",
       "      <th>JPM_Returns</th>\n",
       "    </tr>\n",
       "  </thead>\n",
       "  <tbody>\n",
       "    <tr>\n",
       "      <th>2016-03-09</th>\n",
       "      <td>0.000451</td>\n",
       "    </tr>\n",
       "    <tr>\n",
       "      <th>2016-03-12</th>\n",
       "      <td>0.000477</td>\n",
       "    </tr>\n",
       "    <tr>\n",
       "      <th>2016-03-13</th>\n",
       "      <td>0.000504</td>\n",
       "    </tr>\n",
       "    <tr>\n",
       "      <th>2016-03-14</th>\n",
       "      <td>0.000532</td>\n",
       "    </tr>\n",
       "    <tr>\n",
       "      <th>2016-03-15</th>\n",
       "      <td>0.000553</td>\n",
       "    </tr>\n",
       "  </tbody>\n",
       "</table>\n",
       "</div>"
      ],
      "text/plain": [
       "            JPM_Returns\n",
       "2016-03-09     0.000451\n",
       "2016-03-12     0.000477\n",
       "2016-03-13     0.000504\n",
       "2016-03-14     0.000532\n",
       "2016-03-15     0.000553"
      ]
     },
     "execution_count": 16,
     "metadata": {},
     "output_type": "execute_result"
    }
   ],
   "source": [
    "model.predict()"
   ]
  },
  {
   "cell_type": "markdown",
   "metadata": {},
   "source": [
    "# VAR"
   ]
  },
  {
   "cell_type": "code",
   "execution_count": 17,
   "metadata": {},
   "outputs": [],
   "source": [
    "ibm = DataReader(['JPM','GS'],  'yahoo', datetime(2012,1,1), datetime(2016,6,28))\n",
    "opening_prices = np.log(ibm['Open'])"
   ]
  },
  {
   "cell_type": "code",
   "execution_count": 18,
   "metadata": {},
   "outputs": [
    {
     "name": "stdout",
     "output_type": "stream",
     "text": [
      "VAR(2)                                                                                                    \n",
      "======================================================= ==================================================\n",
      "Dependent Variable: Differenced JPM,Differenced GS      Method: OLS                                       \n",
      "Start Date: 2012-01-05 00:00:00                         Log Likelihood: 6803.9629                         \n",
      "End Date: 2016-06-28 00:00:00                           AIC: -13581.9258                                  \n",
      "Number of observations: 1126                            BIC: -13516.5822                                  \n",
      "==========================================================================================================\n",
      "Latent Variable                          Estimate   Std Error  z        P>|z|    95% C.I.                 \n",
      "======================================== ========== ========== ======== ======== =========================\n",
      "Differenced JPM Constant                 0.0005     0.0005     1.1494   0.2504   (-0.0004 | 0.0014)       \n",
      "Differenced JPM AR(1)                    -0.1034    0.0004     -239.252 0.0      (-0.1042 | -0.1025)      \n",
      "Differenced GS to Differenced JPM AR(1)  0.0087     0.0469     0.185    0.8532   (-0.0832 | 0.1006)       \n",
      "Differenced JPM AR(2)                    -0.0385    0.0449     -0.8577  0.391    (-0.1265 | 0.0495)       \n",
      "Differenced GS to Differenced JPM AR(2)  0.0539     0.049      1.0999   0.2714   (-0.0422 | 0.15)         \n",
      "Differenced GS Constant                  0.0004     0.0469     0.0077   0.9938   (-0.0916 | 0.0923)       \n",
      "Differenced GS AR(1)                     0.0372     0.0468     0.7952   0.4265   (-0.0546 | 0.129)        \n",
      "Differenced JPM to Differenced GS AR(1)  -0.0659    0.0448     -1.4712  0.1412   (-0.1538 | 0.0219)       \n",
      "Differenced GS AR(2)                     -0.0018    0.0488     -0.0366  0.9708   (-0.0974 | 0.0938)       \n",
      "Differenced JPM to Differenced GS AR(2)  0.0282     0.0467     0.6036   0.5461   (-0.0633 | 0.1197)       \n",
      "==========================================================================================================\n"
     ]
    }
   ],
   "source": [
    "model = pf.VAR(data=opening_prices, lags=2, integ=1)\n",
    "x = model.fit()\n",
    "x.summary()"
   ]
  },
  {
   "cell_type": "code",
   "execution_count": 19,
   "metadata": {},
   "outputs": [
    {
     "data": {
      "text/html": [
       "<div>\n",
       "<style scoped>\n",
       "    .dataframe tbody tr th:only-of-type {\n",
       "        vertical-align: middle;\n",
       "    }\n",
       "\n",
       "    .dataframe tbody tr th {\n",
       "        vertical-align: top;\n",
       "    }\n",
       "\n",
       "    .dataframe thead th {\n",
       "        text-align: right;\n",
       "    }\n",
       "</style>\n",
       "<table border=\"1\" class=\"dataframe\">\n",
       "  <thead>\n",
       "    <tr style=\"text-align: right;\">\n",
       "      <th></th>\n",
       "      <th>Differenced JPM</th>\n",
       "      <th>Differenced GS</th>\n",
       "    </tr>\n",
       "    <tr>\n",
       "      <th>Date</th>\n",
       "      <th></th>\n",
       "      <th></th>\n",
       "    </tr>\n",
       "  </thead>\n",
       "  <tbody>\n",
       "    <tr>\n",
       "      <th>2016-06-27</th>\n",
       "      <td>-0.000176</td>\n",
       "      <td>-0.000869</td>\n",
       "    </tr>\n",
       "    <tr>\n",
       "      <th>2016-06-28</th>\n",
       "      <td>0.001034</td>\n",
       "      <td>0.000827</td>\n",
       "    </tr>\n",
       "    <tr>\n",
       "      <th>2016-06-29</th>\n",
       "      <td>0.000379</td>\n",
       "      <td>0.000323</td>\n",
       "    </tr>\n",
       "    <tr>\n",
       "      <th>2016-07-02</th>\n",
       "      <td>0.000487</td>\n",
       "      <td>0.000378</td>\n",
       "    </tr>\n",
       "    <tr>\n",
       "      <th>2016-07-03</th>\n",
       "      <td>0.000475</td>\n",
       "      <td>0.000365</td>\n",
       "    </tr>\n",
       "  </tbody>\n",
       "</table>\n",
       "</div>"
      ],
      "text/plain": [
       "            Differenced JPM  Differenced GS\n",
       "Date                                       \n",
       "2016-06-27        -0.000176       -0.000869\n",
       "2016-06-28         0.001034        0.000827\n",
       "2016-06-29         0.000379        0.000323\n",
       "2016-07-02         0.000487        0.000378\n",
       "2016-07-03         0.000475        0.000365"
      ]
     },
     "execution_count": 19,
     "metadata": {},
     "output_type": "execute_result"
    }
   ],
   "source": [
    "model.predict()"
   ]
  },
  {
   "cell_type": "code",
   "execution_count": null,
   "metadata": {},
   "outputs": [],
   "source": []
  }
 ],
 "metadata": {
  "kernelspec": {
   "display_name": "Python 3",
   "language": "python",
   "name": "python3"
  },
  "language_info": {
   "codemirror_mode": {
    "name": "ipython",
    "version": 3
   },
   "file_extension": ".py",
   "mimetype": "text/x-python",
   "name": "python",
   "nbconvert_exporter": "python",
   "pygments_lexer": "ipython3",
   "version": "3.7.8"
  }
 },
 "nbformat": 4,
 "nbformat_minor": 4
}
