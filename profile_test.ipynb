{
 "cells": [
  {
   "cell_type": "code",
   "execution_count": 33,
   "metadata": {},
   "outputs": [
    {
     "data": {
      "text/plain": [
       "0"
      ]
     },
     "execution_count": 33,
     "metadata": {},
     "output_type": "execute_result"
    }
   ],
   "source": [
    "import cProfile\n",
    "import os\n",
    "\n",
    "# For correct work, install following packages:\n",
    "# pip install gprof2dot\n",
    "# brew install graphviz\n",
    "\n",
    "def profile(func):\n",
    "    \"\"\"Decorator for run function profile\"\"\"\n",
    "    def wrapper(*args, **kwargs):\n",
    "        profile_filename = func.__name__ + '.prof'\n",
    "        profiler = cProfile.Profile()\n",
    "        result = profiler.runcall(func, *args, **kwargs)\n",
    "        profiler.dump_stats(profile_filename)\n",
    "        \n",
    "        return result\n",
    "    \n",
    "    return wrapper \n",
    "\n",
    "\n",
    "@profile\n",
    "def tre():\n",
    "    lst = []\n",
    "    for i in range(10):\n",
    "        lst.append(i)\n",
    "    return lst\n",
    "\n",
    "tre()\n",
    "\n",
    "function_name = 'tre'\n",
    "os.system(f\"gprof2dot -f pstats {function_name}.prof | dot -Tpng -o {function_name}.png\")"
   ]
  },
  {
   "cell_type": "code",
   "execution_count": 1,
   "metadata": {},
   "outputs": [],
   "source": [
    "from utilities.profiler import profile"
   ]
  },
  {
   "cell_type": "code",
   "execution_count": 3,
   "metadata": {},
   "outputs": [],
   "source": [
    "@profile\n",
    "def fu():\n",
    "    return [x ** 2 for x in range(10) if x % 2 != 0]"
   ]
  },
  {
   "cell_type": "code",
   "execution_count": 4,
   "metadata": {},
   "outputs": [
    {
     "data": {
      "text/plain": [
       "[1, 9, 25, 49, 81]"
      ]
     },
     "execution_count": 4,
     "metadata": {},
     "output_type": "execute_result"
    }
   ],
   "source": [
    "fu()"
   ]
  },
  {
   "cell_type": "code",
   "execution_count": 7,
   "metadata": {},
   "outputs": [
    {
     "data": {
      "text/plain": [
       "0"
      ]
     },
     "execution_count": 7,
     "metadata": {},
     "output_type": "execute_result"
    }
   ],
   "source": [
    "os.system(\"gprof2dot -f pstats fu.prof | dot -Tpng -o function_picture.png\")"
   ]
  },
  {
   "cell_type": "code",
   "execution_count": 6,
   "metadata": {},
   "outputs": [],
   "source": [
    "import os"
   ]
  },
  {
   "cell_type": "code",
   "execution_count": 8,
   "metadata": {},
   "outputs": [
    {
     "data": {
      "text/plain": [
       "60"
      ]
     },
     "execution_count": 8,
     "metadata": {},
     "output_type": "execute_result"
    }
   ],
   "source": [
    "15*4"
   ]
  },
  {
   "cell_type": "code",
   "execution_count": null,
   "metadata": {},
   "outputs": [],
   "source": []
  }
 ],
 "metadata": {
  "kernelspec": {
   "display_name": "Python 3",
   "language": "python",
   "name": "python3"
  },
  "language_info": {
   "codemirror_mode": {
    "name": "ipython",
    "version": 3
   },
   "file_extension": ".py",
   "mimetype": "text/x-python",
   "name": "python",
   "nbconvert_exporter": "python",
   "pygments_lexer": "ipython3",
   "version": "3.7.7"
  }
 },
 "nbformat": 4,
 "nbformat_minor": 4
}
