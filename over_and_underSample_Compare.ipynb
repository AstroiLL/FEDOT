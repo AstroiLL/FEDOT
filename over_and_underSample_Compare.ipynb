{
 "cells": [
  {
   "cell_type": "code",
   "execution_count": 65,
   "metadata": {},
   "outputs": [],
   "source": [
    "import datetime\n",
    "import random\n",
    "from datetime import timedelta\n",
    "\n",
    "from sklearn.preprocessing import StandardScaler, RobustScaler\n",
    "\n",
    "from sklearn.neighbors import KNeighborsClassifier\n",
    "\n",
    "from core.composer.gp_composer.gp_composer import \\\n",
    "    GPComposer, GPComposerRequirements\n",
    "from core.composer.visualisation import ComposerVisualiser\n",
    "from core.repository.model_types_repository import ModelTypesRepository\n",
    "from core.repository.quality_metrics_repository import \\\n",
    "    ClassificationMetricsEnum, MetricsRepository\n",
    "from core.repository.tasks import Task, TaskTypesEnum\n",
    "from core.utils import probs_to_labels\n",
    "from examples.utils import create_multi_clf_examples_from_excel\n",
    "\n",
    "\n",
    "import pandas as pd\n",
    "import numpy as np\n",
    "from sklearn.metrics import roc_auc_score as roc_auc\n",
    "from sklearn.metrics import f1_score, precision_score, recall_score, accuracy_score, classification_report, confusion_matrix\n",
    "from benchmark.benchmark_utils import get_scoring_case_data_paths\n",
    "from core.composer.chain import Chain\n",
    "from core.composer.node import PrimaryNode, SecondaryNode\n",
    "from core.models.data import InputData\n",
    "\n",
    "\n",
    "random.seed(1)\n",
    "np.random.seed(1)\n",
    "\n",
    "\n",
    "def get_model_mod(train_file_path: str, cur_lead_time: datetime.timedelta = timedelta(minutes=6)):\n",
    "    task = Task(task_type=TaskTypesEnum.classification)\n",
    "    dataset_to_compose = InputData.from_csv(train_file_path, task=task)\n",
    "\n",
    "    # the search of the models provided by the framework\n",
    "    # that can be used as nodes in a chain for the selected task\n",
    "    models_repo = ModelTypesRepository()\n",
    "    available_model_types, _ = models_repo.suitable_model(task_type=task.task_type)\n",
    "\n",
    "    metric_function = MetricsRepository(). \\\n",
    "        metric_by_id(ClassificationMetricsEnum.ROCAUC_penalty)\n",
    "    \n",
    "\n",
    "    \n",
    "    composer_requirements = GPComposerRequirements(\n",
    "        primary=['logit', 'lda'], secondary=['rf'],\n",
    "        max_lead_time=cur_lead_time, max_arity=3,\n",
    "        max_depth=4, pop_size=20, num_of_generations=100, \n",
    "        crossover_prob = 0.8, mutation_prob = 0.8, \n",
    "        add_single_model_chains = True)\n",
    "\n",
    "    # Create the genetic programming-based composer, that allow to find\n",
    "    # the optimal structure of the composite model\n",
    "    composer = GPComposer()\n",
    "\n",
    "    # run the search of best suitable model\n",
    "    chain_evo_composed = composer.compose_chain(data=dataset_to_compose,\n",
    "                                                initial_chain=None,\n",
    "                                                composer_requirements=composer_requirements,\n",
    "                                                metrics=metric_function, is_visualise=False)\n",
    "    chain_evo_composed.fit(input_data=dataset_to_compose)\n",
    "\n",
    "    return chain_evo_composed\n",
    "\n",
    "\n",
    "def get_model_all(train_file_path: str, cur_lead_time: datetime.timedelta = timedelta(minutes=6)):\n",
    "    task = Task(task_type=TaskTypesEnum.classification)\n",
    "    dataset_to_compose = InputData.from_csv(train_file_path, task=task)\n",
    "\n",
    "    # the search of the models provided by the framework\n",
    "    # that can be used as nodes in a chain for the selected task\n",
    "    models_repo = ModelTypesRepository()\n",
    "    available_model_types, _ = models_repo.suitable_model(task_type=task.task_type)\n",
    "\n",
    "    metric_function = MetricsRepository(). \\\n",
    "        metric_by_id(ClassificationMetricsEnum.ROCAUC_penalty)\n",
    "    \n",
    "\n",
    "    \n",
    "    composer_requirements = GPComposerRequirements(\n",
    "        primary=available_model_types, secondary=available_model_types,\n",
    "        max_lead_time=cur_lead_time, max_arity=3,\n",
    "        max_depth=4, pop_size=20, num_of_generations=100, \n",
    "        crossover_prob = 0.8, mutation_prob = 0.8, \n",
    "        add_single_model_chains = True)\n",
    "\n",
    "    # Create the genetic programming-based composer, that allow to find\n",
    "    # the optimal structure of the composite model\n",
    "    composer = GPComposer()\n",
    "\n",
    "    # run the search of best suitable model\n",
    "    chain_evo_composed = composer.compose_chain(data=dataset_to_compose,\n",
    "                                                initial_chain=None,\n",
    "                                                composer_requirements=composer_requirements,\n",
    "                                                metrics=metric_function, is_visualise=False)\n",
    "    chain_evo_composed.fit(input_data=dataset_to_compose)\n",
    "\n",
    "    return chain_evo_composed\n",
    "\n",
    "\n",
    "def apply_model_to_data(model: Chain, data_path: str):\n",
    "    df, file_path = create_multi_clf_examples_from_excel(data_path, return_df=True)\n",
    "    dataset_to_apply = InputData.from_csv(file_path, with_target=True)\n",
    "    evo_predicted = model.predict(dataset_to_apply)\n",
    "    df['forecast'] = probs_to_labels(evo_predicted.predict)\n",
    "    return df\n",
    "\n",
    "\n",
    "def apply_model_to_data_and_predict(model: Chain, data_path: str):\n",
    "    df, file_path = create_multi_clf_examples_from_excel(data_path, return_df=True)\n",
    "    \n",
    "    dataset_to_validate = InputData.from_csv(data_path)\n",
    "    predicted_labels = model.predict(dataset_to_validate).predict\n",
    "    \n",
    "    \n",
    "    test_data = InputData.from_csv(file_path, with_target=True)\n",
    "    roc_auc_valid = round(roc_auc(y_true=test_data.target,\n",
    "                                  y_score=predicted_labels,\n",
    "                                  multi_class='ovo',\n",
    "                                  average='macro'), 4)\n",
    "    \n",
    "    roc_auc_st = round(roc_auc(y_true=test_data.target, y_score=predicted_labels.round()), 4)\n",
    "    \n",
    "    p = round(precision_score(y_true=test_data.target,y_pred=predicted_labels.round()), 4)\n",
    "    r = round(recall_score(y_true=test_data.target, y_pred=predicted_labels.round()), 4)\n",
    "    a = round(accuracy_score(y_true=test_data.target, y_pred=predicted_labels.round()), 4)\n",
    "    f = round(f1_score(y_true=test_data.target, y_pred=predicted_labels.round()), 4)\n",
    "    \n",
    "    return roc_auc_valid, roc_auc_st, p, r, a, f\n",
    "\n",
    "\n",
    "def validate_model_quality(model: Chain, data_path: str):\n",
    "    dataset_to_validate = InputData.from_csv(data_path)\n",
    "    predicted_labels = model.predict(dataset_to_validate).predict\n",
    "\n",
    "    roc_auc_valid = round(roc_auc(y_true=test_data.target,\n",
    "                                  y_score=predicted_labels,\n",
    "                                  multi_class='ovo',\n",
    "                                  average='macro'), 4)\n",
    "    \n",
    "    roc_auc_st = round(roc_auc(y_true=test_data.target,y_score=predicted_labels), 4)\n",
    "                              \n",
    "    p = round(precision_score(y_true=test_data.target,y_pred=predicted_labels.round()), 4)\n",
    "    r = round(recall_score(y_true=test_data.target, y_pred=predicted_labels.round()), 4)\n",
    "    a = round(accuracy_score(y_true=test_data.target, y_pred=predicted_labels.round()), 4)\n",
    "    f = round(f1_score(y_true=test_data.target, y_pred=predicted_labels.round()), 4)\n",
    "    \n",
    "    return roc_auc_valid, roc_auc_st, p, r, a, f\n",
    "\n",
    "\n",
    "import time"
   ]
  },
  {
   "cell_type": "code",
   "execution_count": null,
   "metadata": {},
   "outputs": [],
   "source": []
  },
  {
   "cell_type": "code",
   "execution_count": 4,
   "metadata": {},
   "outputs": [],
   "source": [
    "def get_simple_chain():\n",
    "    first = PrimaryNode(model_type='logit')\n",
    "    second = PrimaryNode(model_type='lda')\n",
    "    final = SecondaryNode(model_type='rf',\n",
    "                          nodes_from=[first, second])\n",
    "\n",
    "    chain = Chain(final)\n",
    "\n",
    "    return chain"
   ]
  },
  {
   "cell_type": "code",
   "execution_count": 5,
   "metadata": {},
   "outputs": [],
   "source": [
    "train_file_path = r'./examples/data/creditcard_scaling_underSample/train.csv'\n",
    "test_file_path = r'./examples/data/creditcard_scaling_underSample/test.csv'"
   ]
  },
  {
   "cell_type": "code",
   "execution_count": 6,
   "metadata": {},
   "outputs": [],
   "source": [
    "train_data = InputData.from_csv(train_file_path)\n",
    "test_data = InputData.from_csv(test_file_path)"
   ]
  },
  {
   "cell_type": "code",
   "execution_count": 7,
   "metadata": {},
   "outputs": [],
   "source": [
    "chain = get_simple_chain()"
   ]
  },
  {
   "cell_type": "code",
   "execution_count": 8,
   "metadata": {
    "collapsed": true,
    "jupyter": {
     "outputs_hidden": true
    }
   },
   "outputs": [
    {
     "data": {
      "text/plain": [
       "OutputData(idx=array([ 1.36938448e+00, -2.79466220e-01, -9.78131768e-02, -2.53895060e-01,\n",
       "       -1.09690491e-01,  2.51519598e-01, -1.20170474e-01, -2.96793125e-01,\n",
       "        2.49798086e+01, -8.43987983e-02, -2.37546287e-01, -2.93439530e-01,\n",
       "        1.19052610e-01, -2.79745686e-01,  2.50820932e-01, -2.93439530e-01,\n",
       "        1.06211137e+00, -1.48396563e-01, -1.39733110e-03, -2.86173409e-01,\n",
       "       -2.45231608e-01,  1.63236219e+00,  1.58066094e+00,  4.19199329e-02,\n",
       "        4.28840914e-01, -2.94976595e-01,  5.65080696e+00, -3.07412841e-01,\n",
       "        1.11087822e+00, -2.93439530e-01,  1.08977852e+00, -2.96653392e-01,\n",
       "        3.03081115e+00, -2.93439530e-01,  3.61210089e-01, -2.52916929e-01,\n",
       "       -2.54453993e-01,  6.41374974e-01,  4.72297911e+00,  2.33046880e+00,\n",
       "       -2.51519598e-01,  2.43135611e-01,  1.50464613e+00, -2.93579264e-01,\n",
       "        1.08977852e+00,  3.15601202e+00,  3.55760497e-01, -2.93439530e-01,\n",
       "       -2.38244952e-01,  1.11786488e-01,  3.82868721e+00, -2.96373926e-01,\n",
       "       -9.78131768e-02, -2.94976595e-01, -1.77880249e-01,  5.82687068e-01,\n",
       "        7.72444631e-01, -3.07412841e-01, -1.95626354e-01, -2.93579264e-01,\n",
       "        1.75882065e+00,  2.16516454e+00,  1.08977852e+00, -2.69824635e-01,\n",
       "       -1.82072242e-01,  1.15978481e-01, -1.48256829e-01,  4.03828687e+00,\n",
       "        5.58932439e-04, -2.96793125e-01,  2.14071124e-01, -2.89387270e-01,\n",
       "        2.29343953e+00,  4.99266401e-01, -2.93439530e-01,  1.38475512e-01,\n",
       "       -2.93439530e-01, -2.96653392e-01,  2.33046880e+00,  5.26514358e-01,\n",
       "        2.49798086e+01, -3.07412841e-01,  2.37127087e-01,  9.50045413e-01,\n",
       "        9.43198491e-02, -2.93439530e-01, -2.93439530e-01, -3.07273108e-01,\n",
       "       -2.86452875e-02, -4.16404667e-02, -2.30699364e-01,  7.52323063e-01,\n",
       "        5.03039195e-01,  5.67316426e-02, -2.01774610e-01,  1.14581150e+00,\n",
       "       -9.85118424e-02,  1.04011738e+01,  0.00000000e+00,  3.35177810e+00,\n",
       "       -2.93439530e-01,  7.82505415e-01, -2.93439530e-01,  9.25452386e-01,\n",
       "        1.17473625e+00, -2.79466220e-02,  3.04520366e+00,  2.76392091e+00,\n",
       "       -2.93439530e-01,  2.49535387e+00,  3.91252707e-01,  5.30985817e-01,\n",
       "       -2.96653392e-01, -1.11926221e-01, -1.07594495e-02, -2.51659331e-01,\n",
       "        3.25242786e+00, -9.92105079e-02, -1.39872843e-01,  8.03465381e-01,\n",
       "        4.60839796e-01, -2.93439530e-01, -2.93439530e-01,  1.78858380e+00,\n",
       "       -2.13512192e-01,  2.14071124e-01, -2.89387270e-01,  1.08977852e+00,\n",
       "        2.51379864e-01, -2.93439530e-01, -7.82505415e-03, -2.96653392e-01,\n",
       "        9.22238524e-01, -2.13232725e-01, -1.67819465e-01, -2.37825753e-01,\n",
       "        3.21386152e-01, -2.93439530e-01, -2.93439530e-01, -2.82540348e-01,\n",
       "       -2.93439530e-01, -2.94557395e-01, -2.93439530e-01,  3.51847970e-01,\n",
       "       -2.01355411e-01,  8.04024314e-01, -2.93439530e-01, -2.93439530e-01,\n",
       "       -2.93439530e-01,  4.89065884e-01, -1.11926221e-01, -1.70194928e-01,\n",
       "       -1.81653043e-01, -2.93439530e-01, -1.99259415e-01, -2.96653392e-01,\n",
       "        9.25452386e-01, -1.59435478e-01, -2.93439530e-01,  1.26222315e+01,\n",
       "       -1.84727171e-01,  1.18633410e+00,  3.21386152e-01,  5.17012506e-01,\n",
       "       -1.35401383e-01, -2.52916929e-01, -2.93439530e-01, -5.58932439e-02,\n",
       "        8.77244463e-01, -2.93439530e-01,  1.26220918e+00, -2.93439530e-01,\n",
       "        1.64326137e-01, -2.93439530e-01, -1.25759799e-01,  7.96478726e-01,\n",
       "       -1.40152309e-01,  1.78858380e+00, -1.78718647e-01, -2.32795361e-01,\n",
       "       -2.93439530e-01,  8.83811919e-01,  8.74729267e+00,  1.28442674e+00,\n",
       "       -2.36288689e-01,  1.51205198e+00, -1.50911759e-02, -2.75553692e-01,\n",
       "       -3.07273108e-01, -2.07084469e-01,  4.16418640e+00,  6.41374974e-01,\n",
       "       -2.23572976e-01,  1.68252637e+00,  1.10612730e+00, -2.33354293e-02,\n",
       "       -2.93439530e-01,  2.78068888e-02,  4.22818417e+00, -2.93439530e-01,\n",
       "       -2.94976595e-01, -2.93439530e-01, -9.65555788e-02, -2.93439530e-01,\n",
       "       -1.49933627e-01, -3.07412841e-01,  2.04010340e-01,  1.08265213e+00,\n",
       "        6.41374974e-01, -1.41829106e-01, -5.60329770e-02,  4.13763711e+00,\n",
       "       -2.93439530e-01,  1.51205198e+00, -2.93439530e-01,  1.77461049e+00,\n",
       "        6.56745616e-03, -2.27066303e-01,  6.76587717e-01, -3.04618179e-01,\n",
       "       -2.09739398e-01,  2.73611402e+00,  1.32746454e-01, -7.71326766e-02,\n",
       "        1.81653043e-01, -2.94976595e-01, -2.93439530e-01,  3.00789492e+00,\n",
       "       -2.97910990e-01, -2.93439530e-01,  1.08852093e+00, -2.54453993e-01,\n",
       "        5.47935443e+00,  3.91252707e-01, -2.02333543e-01,  7.54558793e-01,\n",
       "       -2.51519598e-01,  1.49514427e+00,  6.40983721e+00,  1.63138406e+00,\n",
       "        6.41374974e-01, -2.54453993e-01,  2.54691539e+00, -2.38244952e-01,\n",
       "       -2.93439530e-01,  3.00789492e+00,  1.95472647e+00, -2.93439530e-01,\n",
       "       -2.36288689e-01, -2.19939915e-01,  1.26220918e+00, -2.93439530e-01,\n",
       "       -2.57667854e-01,  6.52553623e-02, -2.89387270e-01, -2.90924335e-01,\n",
       "       -1.45462167e-01,  4.16418640e+00, -2.93439530e-01,  1.25759799e-01,\n",
       "        3.61908754e-01,  1.11646755e-01,  3.30329071e-01, -3.07412841e-01,\n",
       "        6.97268218e-02, -2.93439530e-01, -3.07412841e-01,  8.23447216e-01,\n",
       "        3.59952491e-01, -2.94138196e-01, -2.93439530e-01,  4.10396143e-01,\n",
       "        4.05226018e-02,  8.58939426e-01, -2.93439530e-01,  9.76454971e+00,\n",
       "       -2.70104101e-01, -1.53706421e-01,  9.79822539e+00, -2.52916929e-01,\n",
       "       -2.19800182e-01, -2.10577796e-01, -2.93439530e-01,  8.79759659e-01,\n",
       "        6.98106616e-01, -2.93439530e-01,  7.36477328e+00, -1.25899532e-01,\n",
       "        3.28512541e-01,  3.10486970e-01, -2.79466220e-01,  6.10731503e+00,\n",
       "        1.14567177e+00, -2.93439530e-01, -2.93439530e-01, -1.82491441e-01,\n",
       "       -3.07412841e-01, -2.02193810e-01, -1.81792776e-01,  2.54691539e+00,\n",
       "       -2.79466220e-01,  1.08991826e-01, -2.75693426e-01, -1.35401383e-01,\n",
       "       -2.96653392e-01, -2.86173409e-01, -2.85195277e-01, -1.97862083e-01,\n",
       "       -2.82540348e-01, -2.93439530e-01,  3.52099490e+00,  1.18144344e+00,\n",
       "        3.04338713e-01,  9.90512122e+00, -2.54873192e-01, -2.93439530e-01,\n",
       "        1.27604276e+00, -2.93439530e-01,  1.13603018e+01,  1.49234961e+01,\n",
       "       -2.93439530e-01, -1.02424369e-01,  1.71871725e+00,  2.43834277e-01,\n",
       "       -2.93439530e-01,  1.08977852e+00, -2.68008105e-01,  1.01041012e+00,\n",
       "       -3.07412841e-01, -1.39733110e-01, -2.93439530e-01, -2.93439530e-01,\n",
       "        3.35177810e+00,  1.87731433e+00, -1.04939565e-01,  1.50911759e-01,\n",
       "       -2.93439530e-01,  1.81373576e-01,  2.51379864e-01, -3.07412841e-01,\n",
       "        2.51519598e-01, -2.93439530e-01,  1.37776846e-01, -2.92042199e-01,\n",
       "        4.22818417e+00, -2.93439530e-01,  2.18247747e+01,  1.08977852e+00,\n",
       "       -2.94557395e-01, -2.44672675e-01, -1.74526654e-01,  8.55585831e+00,\n",
       "       -2.96932858e-01, -2.93439530e-01,  9.75868092e+00, -2.93439530e-01,\n",
       "       -2.65632642e-01, -2.09599665e-01, -2.93439530e-01,  6.85041571e+00,\n",
       "       -1.11786488e-01,  8.75288200e-01,  2.19939915e+00,  2.51519598e-01,\n",
       "       -2.07084469e-01, -1.05219032e-01, -5.03039195e-02,  2.43834277e-01,\n",
       "       -2.93439530e-01,  9.79822539e+00, -2.93439530e-01,  1.36924474e+00,\n",
       "       -2.93439530e-01,  1.16607280e+00, -1.67679732e-01, -2.82959547e-01,\n",
       "        1.67609865e+00,  1.11786488e-01,  1.64815203e+00,  4.44504995e+00,\n",
       "        4.10899183e+00, -1.36798714e-01,  3.33962132e-01,  6.95731153e+00,\n",
       "        3.48075176e-01, -2.01215678e-01, -3.07412841e-01, -2.96793125e-01,\n",
       "       -2.62418780e-01, -2.93439530e-01,  1.44665689e+00, -1.59016279e-01,\n",
       "        1.08977852e+00,  1.31335150e+00,  5.30985817e-01, -2.93439530e-01,\n",
       "       -2.93439530e-01, -2.93439530e-01, -2.93439530e-01, -2.82400615e-01,\n",
       "       -2.75693426e-01,  3.46258646e+01, -2.44672675e-01, -2.09739398e-01,\n",
       "       -2.93439530e-01,  1.36137777e+01, -2.86452875e-02,  5.99832320e+00,\n",
       "        1.57898414e+00,  3.33962132e-01, -1.79836512e-01,  1.12821910e+01,\n",
       "       -1.67959198e-01, -1.46719765e-01, -2.97910990e-01,  1.07594495e+00,\n",
       "       -1.41968840e-01,  4.78152728e+00, -2.93439530e-01,  6.21253406e-01,\n",
       "       -2.76531824e-01,  7.11241529e-02,  1.11646755e-01,  2.14071124e-01,\n",
       "       -2.93439530e-01, -2.96094460e-01, -2.93439530e-01,  1.44344302e+00,\n",
       "        2.51240131e-01,  1.28442674e+00,  1.60553343e+00, -9.48787815e-02,\n",
       "       -2.93439530e-01, -2.93439530e-01, -2.79466220e-01, -2.75134493e-01,\n",
       "       -2.93439530e-01,  2.47607070e-01, -2.09599665e-03,  1.54768392e+00,\n",
       "       -2.44672675e-01,  7.40585482e-01, -3.77279396e-03, -3.07412841e-01,\n",
       "       -1.94787955e-01,  6.95731153e+00,  4.10899183e+00,  1.67679732e-01,\n",
       "       -2.85893943e-01,  3.21386152e-01, -2.93439530e-01, -2.01355411e-01,\n",
       "        8.39488577e+00, -1.25899532e-01, -3.07412841e-01, -2.79466220e-01,\n",
       "       -3.07412841e-01, -2.93439530e-01, -2.93439530e-01,  2.94277929e-01,\n",
       "       -1.48256829e-01, -1.95766087e-01,  8.74729267e+00,  2.32683574e+00,\n",
       "        6.67924265e+00, -6.90281562e-02, -1.91434360e-01,  1.43268357e+00,\n",
       "        1.08977852e+00,  2.22594844e-01,  1.05638231e-01,  1.11087822e+00,\n",
       "        7.67693705e-01,  4.18221198e-01,  1.83469573e+01, -1.69077063e-01,\n",
       "       -2.16586320e-02, -2.93439530e-01, -2.93439530e-01, -2.51519598e-01,\n",
       "        2.17075386e+00, -2.93439530e-01, -2.93439530e-01,  1.08977852e+00,\n",
       "       -1.48256829e-01, -1.67679732e-01, -1.67819465e-01,  1.08977852e+00,\n",
       "       -2.93439530e-01, -1.48117096e-01, -2.93439530e-01,  9.75868092e+00,\n",
       "       -1.82211975e-01,  2.34751624e-01, -2.94976595e-01,  4.15286802e+00,\n",
       "        2.17913785e+00, -2.93439530e-01, -2.93439530e-01,  1.01725704e+01,\n",
       "        2.20484874e+01,  2.52916929e+00, -2.93439530e-01,  2.01634877e-01,\n",
       "        4.13763711e+00, -2.09739398e-01, -2.16306854e-01, -2.82400615e-01,\n",
       "        6.53545728e+00,  2.14364564e+00,  1.08977852e+00, -2.94976595e-01,\n",
       "       -7.71326766e-02, -1.67819465e-01, -3.07412841e-01,  1.43268357e+00,\n",
       "        2.10046811e+00, -2.93439530e-01,  1.35541116e+00,  8.70257808e-01,\n",
       "        1.10906169e+00,  6.95870887e-01,  5.19108503e-01, -3.07412841e-01,\n",
       "       -3.07412841e-01, -2.93439530e-01,  4.69433382e+00, -1.48117096e-01,\n",
       "       -4.24788654e-02, -2.23712709e-01, -2.43694543e-01, -2.94976595e-01,\n",
       "       -1.35401383e-01, -9.92105079e-02, -1.78718647e-01, -1.95626354e-01,\n",
       "       -2.44672675e-01,  1.08977852e+00,  1.42178439e+00, -2.93439530e-01,\n",
       "        8.74729267e+00, -4.98847202e-02, -2.93439530e-01,  9.76454971e+00,\n",
       "       -7.32201495e-02, -2.54453993e-01,  1.64885070e+00, -2.93439530e-01,\n",
       "        5.27646196e+00, -2.93439530e-01, -2.79745686e-01, -2.93439530e-01,\n",
       "       -6.44169636e-02,  2.08090547e+00,  6.69321596e-01,  9.25033187e-02,\n",
       "       -2.93439530e-01, -2.93439530e-01, -2.93439530e-01,  5.65080696e+00,\n",
       "       -2.96653392e-01,  3.91252707e-01, -2.69964368e-01, -2.30839097e-01,\n",
       "       -2.93439530e-01, -2.24830574e-01, -2.90924335e-01, -3.07273108e-01,\n",
       "        6.00852372e-01, -2.79466220e-01, -2.51519598e-01,  1.12821910e+01,\n",
       "       -2.93439530e-01,  1.29951792e+00, -2.44672675e-01, -2.96653392e-01,\n",
       "       -9.78131768e-02,  7.36477328e+00, -1.67679732e-01,  5.99832320e+00,\n",
       "        2.32683574e+00,  3.28512541e-01,  3.05987564e+00, -2.92042199e-01,\n",
       "        3.90554042e-01,  4.61119262e-01, -3.07412841e-01, -2.93439530e-01,\n",
       "       -2.02752742e-01, -1.95626354e-01, -2.93439530e-01, -2.93439530e-01,\n",
       "       -2.93439530e-01,  1.26220918e+00,  1.17361839e+00, -2.07084469e-01,\n",
       "        2.44421156e+00,  2.41738280e+00,  2.51519598e-01,  1.45182701e+00,\n",
       "        3.28093342e-01,  1.08977852e+00, -2.93439530e-01, -3.07412841e-01,\n",
       "       -5.60329770e-02, -7.93684063e-02, -2.24970307e-01,  7.41843080e-01,\n",
       "       -3.07412841e-01, -2.43694543e-01,  9.03793754e-01, -2.87710473e-01,\n",
       "        6.34388318e-01, -2.93579264e-01, -2.09739398e-01, -1.25899532e-01,\n",
       "        3.17194159e+00,  9.92105079e-01, -2.96653392e-01, -2.79745686e-01,\n",
       "        3.22671697e+00,  4.32893174e-01, -2.93439530e-01,  2.76671557e+00,\n",
       "       -2.93439530e-01,  1.08977852e+00, -3.07273108e-01,  2.50960665e+00,\n",
       "       -2.93439530e-01,  1.15712988e+00,  1.81513310e-01, -2.94557395e-01,\n",
       "        1.06211137e+00, -2.93439530e-01,  3.25242786e+00,  2.39023266e+01,\n",
       "       -2.93439530e-01, -2.86173409e-01, -2.90924335e-01, -3.57716761e-02,\n",
       "        7.25913505e-01,  1.08977852e+00, -3.07412841e-01, -3.07412841e-01,\n",
       "       -1.21008873e-01, -2.90225669e-01, -1.46719765e-01,  2.51519598e-01,\n",
       "       -1.11926221e-01, -2.93439530e-01, -1.74666387e-01,  2.72479564e-01,\n",
       "        2.50150213e+00,  2.37546287e-01, -2.02193810e-01,  9.08265213e-01,\n",
       "        8.74729267e+00, -2.97072591e-01, -2.96793125e-01, -2.54873192e-01,\n",
       "        1.78858380e+00,  1.58191854e+00,  1.11646755e-01, -1.70194928e-01,\n",
       "       -2.93439530e-01, -4.15007336e-02,  1.71340739e+00,  2.48724935e+00,\n",
       "        2.08090547e+00, -2.44672675e-01, -1.82910641e-01, -1.09830224e-01,\n",
       "        6.00852372e-01,  2.59400545e+00, -2.87431007e-01, -2.09879131e-01,\n",
       "       -3.07412841e-01, -2.57108922e-01,  1.90037029e-02,  5.26793824e-01,\n",
       "       -1.79836512e-01,  1.26220918e+00, -2.93439530e-01,  1.04799832e-01,\n",
       "        1.08977852e+00, -2.93439530e-01, -2.65492909e-01,  3.20687487e-01,\n",
       "        1.93111158e-01, -1.39733110e-01, -2.25668972e-01, -2.93439530e-01,\n",
       "       -1.20589674e-01, -2.38943618e-01, -9.85118424e-02,  1.19849088e+00,\n",
       "       -2.07084469e-01, -2.93579264e-01, -2.37686020e-01, -1.96464752e-01,\n",
       "        4.05100259e+00,  4.10899183e+00,  3.74736254e+00,  2.47327604e+00,\n",
       "       -2.82400615e-01, -2.93439530e-01, -1.67679732e-01, -2.93439530e-01,\n",
       "        1.08977852e+00,  5.65080696e+00, -2.93439530e-01, -2.93439530e-01,\n",
       "       -2.93439530e-01,  1.11646755e-01, -3.07412841e-01,  4.47145951e-01,\n",
       "        1.81513310e-01,  1.08935932e+00,  9.24194788e-01,  3.15601202e+00,\n",
       "       -2.96653392e-01, -2.89107804e-01,  7.82505415e-01, -2.93439530e-01,\n",
       "       -2.44672675e-01,  4.78152728e+00, -2.93439530e-01, -2.96653392e-01,\n",
       "       -1.81792776e-01, -2.79466220e-01, -2.75553692e-01,  3.28512541e-01,\n",
       "        5.99832320e+00, -2.89387270e-01,  2.31942989e+00, -2.93439530e-01,\n",
       "       -8.45385314e-02,  8.26521344e-01, -1.95626354e-01, -2.54453993e-01,\n",
       "        1.25745825e+00,  1.87242367e+00,  1.08977852e+00,  5.14217844e+00,\n",
       "        1.34842451e+00,  9.79822539e+00,  1.34842451e+00,  4.15286802e+00,\n",
       "        2.31118564e-01,  1.39733110e-01,  7.82505415e-01, -2.57248655e-01,\n",
       "        2.35450290e-01, -1.67679732e-01, -2.75553692e-01, -2.93439530e-01,\n",
       "       -2.18123384e-01,  1.08977852e+00, -2.96793125e-01, -1.50492559e-01,\n",
       "       -2.65632642e-01, -2.51519598e-01, -2.93439530e-01, -3.07412841e-01,\n",
       "       -2.93439530e-01,  1.02675889e+00,  2.42856145e+00,  1.06211137e+00,\n",
       "       -3.07273108e-01, -2.69824635e-01, -3.07412841e-01,  1.06211137e+00,\n",
       "       -2.90924335e-01,  2.54691539e+00, -2.93439530e-01, -2.95814993e-01,\n",
       "       -2.79745686e-01,  2.10046811e+00,  1.25340599e+00,  1.08977852e+00,\n",
       "       -2.93439530e-01,  3.19709355e-01,  4.38761965e+00, -2.93439530e-01,\n",
       "        1.08977852e+00,  1.07175295e-01, -7.36393488e-02]), features=array([[0.02994262, 0.05365005],\n",
       "       [0.99499538, 0.99964722],\n",
       "       [0.02125651, 0.13425357],\n",
       "       ...,\n",
       "       [0.98098028, 0.99841641],\n",
       "       [0.05461302, 0.05831366],\n",
       "       [0.13646947, 0.10959637]]), task=Task(task_type=<TaskTypesEnum.classification: ('classification',)>, task_params=None), data_type=<DataTypesEnum.table: 'feature_table'>, predict=array([0.  , 1.  , 0.  , 0.34, 0.  , 0.  , 0.  , 0.3 , 1.  , 0.  , 0.  ,\n",
       "       1.  , 0.01, 0.  , 0.  , 0.05, 0.98, 1.  , 0.03, 1.  , 0.  , 0.06,\n",
       "       0.  , 0.  , 1.  , 0.  , 1.  , 1.  , 1.  , 1.  , 1.  , 1.  , 1.  ,\n",
       "       0.01, 0.  , 1.  , 1.  , 1.  , 1.  , 1.  , 0.  , 0.01, 0.03, 0.  ,\n",
       "       1.  , 0.97, 0.  , 1.  , 0.  , 0.04, 1.  , 0.  , 0.01, 0.  , 0.  ,\n",
       "       0.  , 0.  , 1.  , 0.97, 0.  , 0.95, 0.21, 1.  , 0.  , 0.  , 0.98,\n",
       "       1.  , 0.06, 0.97, 0.21, 1.  , 0.  , 1.  , 1.  , 1.  , 0.59, 1.  ,\n",
       "       1.  , 1.  , 1.  , 1.  , 0.85, 0.01, 0.  , 0.  , 1.  , 1.  , 1.  ,\n",
       "       0.01, 1.  , 0.  , 0.01, 0.  , 0.09, 0.02, 1.  , 0.  , 1.  , 0.  ,\n",
       "       1.  , 1.  , 1.  , 1.  , 1.  , 0.06, 0.  , 0.99, 1.  , 1.  , 0.03,\n",
       "       0.  , 0.  , 1.  , 0.  , 0.05, 0.1 , 1.  , 0.02, 0.08, 0.  , 0.05,\n",
       "       1.  , 1.  , 0.  , 0.  , 1.  , 0.  , 1.  , 0.01, 1.  , 0.  , 1.  ,\n",
       "       1.  , 1.  , 0.  , 0.  , 0.  , 1.  , 1.  , 0.  , 1.  , 1.  , 1.  ,\n",
       "       0.  , 1.  , 0.  , 1.  , 1.  , 1.  , 0.  , 0.  , 1.  , 0.  , 1.  ,\n",
       "       0.05, 1.  , 1.  , 0.18, 1.  , 1.  , 0.  , 1.  , 0.  , 1.  , 1.  ,\n",
       "       1.  , 0.63, 1.  , 0.15, 1.  , 1.  , 1.  , 0.58, 1.  , 0.1 , 0.  ,\n",
       "       0.  , 0.  , 0.  , 0.  , 1.  , 0.  , 1.  , 1.  , 0.96, 1.  , 0.  ,\n",
       "       1.  , 1.  , 1.  , 1.  , 1.  , 0.  , 0.  , 0.  , 0.  , 1.  , 0.  ,\n",
       "       1.  , 1.  , 0.  , 1.  , 0.  , 1.  , 0.  , 1.  , 0.  , 0.  , 1.  ,\n",
       "       0.  , 0.  , 1.  , 0.  , 1.  , 1.  , 0.  , 1.  , 0.  , 0.28, 0.54,\n",
       "       0.99, 0.06, 0.  , 1.  , 1.  , 0.  , 1.  , 1.  , 1.  , 1.  , 1.  ,\n",
       "       0.95, 0.05, 0.  , 1.  , 0.02, 0.  , 0.6 , 0.8 , 0.  , 1.  , 0.96,\n",
       "       1.  , 0.  , 0.  , 1.  , 0.36, 1.  , 0.96, 0.02, 1.  , 1.  , 0.  ,\n",
       "       0.32, 0.  , 0.97, 0.  , 1.  , 1.  , 0.  , 0.  , 0.03, 1.  , 1.  ,\n",
       "       0.  , 1.  , 1.  , 0.03, 0.04, 0.  , 1.  , 1.  , 1.  , 0.  , 1.  ,\n",
       "       0.91, 0.07, 0.98, 1.  , 1.  , 1.  , 0.  , 1.  , 0.  , 0.  , 0.35,\n",
       "       0.9 , 0.  , 1.  , 0.  , 1.  , 1.  , 0.01, 1.  , 1.  , 0.03, 1.  ,\n",
       "       0.  , 0.  , 1.  , 1.  , 0.  , 1.  , 1.  , 1.  , 0.71, 1.  , 0.06,\n",
       "       0.  , 1.  , 0.06, 1.  , 0.02, 1.  , 1.  , 1.  , 0.17, 1.  , 0.04,\n",
       "       0.04, 1.  , 0.  , 0.  , 1.  , 1.  , 1.  , 0.09, 0.  , 1.  , 0.  ,\n",
       "       1.  , 1.  , 1.  , 0.  , 0.06, 0.  , 1.  , 0.  , 0.  , 1.  , 0.98,\n",
       "       1.  , 0.09, 1.  , 1.  , 1.  , 0.03, 1.  , 1.  , 0.  , 0.  , 0.62,\n",
       "       0.  , 0.74, 1.  , 0.  , 0.  , 0.  , 1.  , 1.  , 0.  , 0.03, 0.  ,\n",
       "       0.98, 1.  , 0.01, 0.  , 1.  , 1.  , 1.  , 1.  , 0.  , 1.  , 0.07,\n",
       "       0.02, 1.  , 0.01, 0.  , 0.  , 1.  , 1.  , 0.01, 0.  , 0.9 , 0.14,\n",
       "       0.26, 0.85, 1.  , 1.  , 1.  , 0.02, 0.08, 1.  , 0.  , 0.  , 1.  ,\n",
       "       1.  , 0.  , 1.  , 0.71, 1.  , 0.43, 0.89, 0.  , 1.  , 1.  , 0.67,\n",
       "       0.99, 0.02, 0.  , 1.  , 0.95, 0.  , 0.  , 1.  , 0.07, 0.  , 1.  ,\n",
       "       1.  , 0.03, 0.  , 0.  , 0.  , 1.  , 1.  , 0.  , 1.  , 1.  , 0.88,\n",
       "       1.  , 0.15, 0.  , 1.  , 1.  , 1.  , 0.  , 0.  , 0.  , 0.  , 0.  ,\n",
       "       0.  , 0.02, 0.  , 1.  , 0.  , 0.9 , 1.  , 0.  , 0.  , 0.  , 0.  ,\n",
       "       1.  , 0.  , 0.  , 0.91, 0.  , 1.  , 1.  , 1.  , 0.  , 1.  , 0.  ,\n",
       "       1.  , 1.  , 0.03, 0.98, 1.  , 1.  , 1.  , 1.  , 0.02, 1.  , 0.97,\n",
       "       0.  , 1.  , 0.  , 0.08, 1.  , 1.  , 0.  , 0.  , 1.  , 1.  , 1.  ,\n",
       "       1.  , 0.  , 0.  , 1.  , 0.1 , 1.  , 1.  , 1.  , 0.  , 0.  , 0.  ,\n",
       "       1.  , 0.  , 0.  , 1.  , 0.  , 0.14, 0.  , 1.  , 0.  , 1.  , 0.  ,\n",
       "       0.  , 0.  , 1.  , 0.  , 1.  , 0.09, 1.  , 0.  , 1.  , 1.  , 1.  ,\n",
       "       0.  , 0.03, 1.  , 0.05, 0.14, 0.01, 1.  , 1.  , 0.97, 0.8 , 1.  ,\n",
       "       1.  , 0.  , 1.  , 0.  , 0.24, 0.06, 1.  , 0.97, 0.89, 1.  , 0.  ,\n",
       "       1.  , 1.  , 0.  , 0.  , 0.91, 0.  , 1.  , 0.11, 1.  , 0.01, 1.  ,\n",
       "       0.  , 1.  , 1.  , 1.  , 0.  , 0.  , 1.  , 1.  , 1.  , 1.  , 1.  ,\n",
       "       0.  , 0.05, 0.  , 1.  , 1.  , 0.  , 0.12, 1.  , 0.  , 0.  , 0.95,\n",
       "       0.  , 0.18, 0.11, 1.  , 0.  , 0.9 , 0.  , 0.99, 1.  , 1.  , 0.  ,\n",
       "       1.  , 0.  , 0.  , 1.  , 1.  , 0.02, 0.98, 1.  , 1.  , 1.  , 1.  ,\n",
       "       0.97, 1.  , 0.  , 0.  , 0.  , 0.  , 1.  , 1.  , 1.  , 1.  , 0.  ,\n",
       "       0.02, 0.  , 0.  , 1.  , 0.1 , 0.  , 0.09, 0.  , 0.09, 0.99, 0.  ,\n",
       "       0.  , 0.  , 1.  , 0.  , 1.  , 0.02, 1.  , 0.18, 0.01, 1.  , 0.  ,\n",
       "       0.07, 1.  , 0.88, 0.  , 1.  , 0.98, 1.  , 1.  , 0.  , 0.  , 1.  ,\n",
       "       0.97, 0.  , 0.  , 1.  , 1.  , 1.  , 0.  , 0.  , 0.  , 0.98, 0.  ,\n",
       "       1.  , 0.  , 0.  , 0.  , 0.  , 1.  , 0.  , 1.  , 0.  , 0.8 , 1.  ,\n",
       "       0.  , 0.17, 0.  , 1.  , 1.  , 0.  , 1.  , 0.  , 1.  , 0.  , 0.  ,\n",
       "       0.01, 1.  , 0.  , 0.  , 0.  , 1.  , 0.03, 1.  , 0.  , 1.  , 1.  ,\n",
       "       1.  , 0.09, 1.  , 1.  , 0.01, 0.01, 0.  , 0.01, 0.01, 1.  , 0.  ,\n",
       "       1.  , 0.  , 0.06, 1.  , 0.01, 0.  , 0.  , 0.79, 1.  , 0.94, 0.12,\n",
       "       0.  , 1.  , 0.  , 1.  , 1.  , 1.  , 1.  , 0.  , 1.  , 0.01, 1.  ,\n",
       "       0.02, 0.  , 0.  , 0.  , 0.97, 1.  , 0.  , 1.  , 1.  , 0.  , 1.  ,\n",
       "       1.  , 1.  , 0.  , 0.  , 1.  , 1.  , 0.99, 0.  , 0.  , 1.  , 0.  ,\n",
       "       0.  , 0.97, 1.  , 0.01, 1.  , 1.  , 1.  , 0.01, 1.  , 0.02, 1.  ,\n",
       "       0.12, 0.  , 1.  , 0.  , 0.  , 0.  , 1.  , 1.  , 0.  , 1.  , 1.  ,\n",
       "       0.  , 0.  , 0.07, 1.  , 0.16, 1.  , 0.  , 0.08, 0.98, 1.  , 0.  ,\n",
       "       1.  , 0.98, 0.97, 1.  , 1.  , 1.  , 0.  , 1.  , 1.  , 0.  , 1.  ,\n",
       "       0.  , 0.01, 0.  , 1.  , 0.05, 0.  ]))"
      ]
     },
     "execution_count": 8,
     "metadata": {},
     "output_type": "execute_result"
    }
   ],
   "source": [
    "chain.fit(train_data, use_cache=False);"
   ]
  },
  {
   "cell_type": "code",
   "execution_count": 9,
   "metadata": {},
   "outputs": [],
   "source": [
    "before_tuning_predicted = chain.predict(test_data)"
   ]
  },
  {
   "cell_type": "code",
   "execution_count": 10,
   "metadata": {},
   "outputs": [],
   "source": [
    "bfr_tun_roc_auc = roc_auc(y_true=test_data.target,\n",
    "                          y_score=before_tuning_predicted.predict)\n",
    "\n",
    "p = precision_score(test_data.target,before_tuning_predicted.predict.round())\n",
    "r = recall_score(y_true=test_data.target, y_pred=before_tuning_predicted.predict.round())\n",
    "a = accuracy_score(y_true=test_data.target, y_pred=before_tuning_predicted.predict.round())\n",
    "f = f1_score(y_true=test_data.target, y_pred=before_tuning_predicted.predict.round())"
   ]
  },
  {
   "cell_type": "code",
   "execution_count": 11,
   "metadata": {},
   "outputs": [
    {
     "name": "stdout",
     "output_type": "stream",
     "text": [
      "ROC_AUC = 0.9819226750261233 \n",
      "PRECISION = 0.9764705882352941 \n",
      "RECALL = 0.9540229885057471 \n",
      "ACCURACY = 0.9695431472081218 \n",
      "f1_score = 0.9651162790697674\n"
     ]
    }
   ],
   "source": [
    "print(f'ROC_AUC = {bfr_tun_roc_auc} \\nPRECISION = {p} \\nRECALL = {r} \\nACCURACY = {a} \\nf1_score = {f}')"
   ]
  },
  {
   "cell_type": "markdown",
   "metadata": {},
   "source": [
    "# Apply model to full data"
   ]
  },
  {
   "cell_type": "code",
   "execution_count": 12,
   "metadata": {},
   "outputs": [],
   "source": [
    "test_data = InputData.from_csv(r'./creditcard_scaling.csv')\n",
    "before_tuning_predicted = chain.predict(test_data)"
   ]
  },
  {
   "cell_type": "code",
   "execution_count": 15,
   "metadata": {},
   "outputs": [],
   "source": [
    "bfr_tun_roc_auc = roc_auc(y_true=test_data.target, y_score=before_tuning_predicted.predict)\n",
    "\n",
    "p = precision_score(test_data.target,before_tuning_predicted.predict.round())\n",
    "r = recall_score(y_true=test_data.target, y_pred=before_tuning_predicted.predict.round())\n",
    "a = accuracy_score(y_true=test_data.target, y_pred=before_tuning_predicted.predict.round())\n",
    "f = f1_score(y_true=test_data.target, y_pred=before_tuning_predicted.predict.round())"
   ]
  },
  {
   "cell_type": "code",
   "execution_count": 17,
   "metadata": {},
   "outputs": [
    {
     "name": "stdout",
     "output_type": "stream",
     "text": [
      "ROC_AUC = 0.9837294501446853 \n",
      "PRECISION = 0.035890431747477046 \n",
      "RECALL = 0.9613821138211383 \n",
      "ACCURACY = 0.9553206206308131 \n",
      "f1_score = 0.06919757150171896\n"
     ]
    }
   ],
   "source": [
    "print(f'ROC_AUC = {bfr_tun_roc_auc} \\nPRECISION = {p} \\nRECALL = {r} \\nACCURACY = {a} \\nf1_score = {f}')"
   ]
  },
  {
   "cell_type": "code",
   "execution_count": 1,
   "metadata": {},
   "outputs": [
    {
     "name": "stdout",
     "output_type": "stream",
     "text": [
      "ROC_AUC = 0.9856 \n",
      "PRECISION = 0.0376 \n",
      "RECALL = 0.9796 \n",
      "ACCURACY = 0.9567\n"
     ]
    }
   ],
   "source": [
    "print(f'ROC_AUC = {0.9856} \\nPRECISION = {0.0376} \\nRECALL = {0.9796} \\nACCURACY = {0.9567}')"
   ]
  },
  {
   "cell_type": "code",
   "execution_count": null,
   "metadata": {},
   "outputs": [],
   "source": []
  },
  {
   "cell_type": "code",
   "execution_count": null,
   "metadata": {},
   "outputs": [],
   "source": []
  },
  {
   "cell_type": "code",
   "execution_count": 61,
   "metadata": {},
   "outputs": [
    {
     "name": "stdout",
     "output_type": "stream",
     "text": [
      "ROC AUC metric = 0.9696 \n",
      "ROC_AUC_ALL = 0.9696 \n",
      "PRECISION = 0.9759 \n",
      "RECALL = 0.931 \n",
      "ACCURACY = 0.9594 \n",
      "F1_SCORE = 0.9529\n"
     ]
    }
   ],
   "source": [
    "file_path_first = r'./creditcard_scaling_underSample.csv'\n",
    "# file_path_first = r'./creditcard_under.csv'\n",
    "# file_path_first = r'./creditcard.csv'\n",
    "\n",
    "#examples/utils.py replace read_excel => read_csv\n",
    "train_file_path, test_file_path = create_multi_clf_examples_from_excel(file_path_first)\n",
    "test_data = InputData.from_csv(test_file_path)\n",
    "#Error!!!!\n",
    "fitted_model = get_model(train_file_path)\n",
    "\n",
    "ComposerVisualiser.visualise(fitted_model, save_path = f'./model8.jpg')\n",
    "\n",
    "r1, r2, p, r, a, f = validate_model_quality(fitted_model, test_file_path)\n",
    "print(f'ROC AUC metric = {r1} \\nROC_AUC_ALL = {r2} \\nPRECISION = {p} \\nRECALL = {r} \\nACCURACY = {a} \\nF1_SCORE = {f}')\n",
    "\n",
    "#0.972 "
   ]
  },
  {
   "cell_type": "code",
   "execution_count": null,
   "metadata": {},
   "outputs": [],
   "source": []
  },
  {
   "cell_type": "code",
   "execution_count": null,
   "metadata": {},
   "outputs": [],
   "source": [
    "file_path_first = r'./creditcard_scaling_underSample.csv'\n",
    "# file_path_first = r'./creditcard_under.csv'\n",
    "# file_path_first = r'./creditcard.csv'\n",
    "\n",
    "#examples/utils.py replace read_excel => read_csv\n",
    "train_file_path, test_file_path = create_multi_clf_examples_from_excel(file_path_first)\n",
    "test_data = InputData.from_csv(test_file_path)\n",
    "#Error!!!!\n",
    "fitted_model = get_model(train_file_path)\n",
    "\n",
    "ComposerVisualiser.visualise(fitted_model, save_path = f'./model7.jpg')\n",
    "\n",
    "r1, r2, p, r, a = validate_model_quality(fitted_model, test_file_path)\n",
    "print(f'ROC AUC metric = {r1} \\nROC_AUC_ALL = {r2} \\nPRECISION = {p} \\nRECALL = {r} \\nACCURACY = {a}') "
   ]
  },
  {
   "cell_type": "code",
   "execution_count": null,
   "metadata": {},
   "outputs": [],
   "source": []
  },
  {
   "cell_type": "code",
   "execution_count": null,
   "metadata": {},
   "outputs": [],
   "source": []
  },
  {
   "cell_type": "markdown",
   "metadata": {},
   "source": [
    "# Full dataset"
   ]
  },
  {
   "cell_type": "markdown",
   "metadata": {},
   "source": [
    "## Composit"
   ]
  },
  {
   "cell_type": "code",
   "execution_count": 22,
   "metadata": {},
   "outputs": [],
   "source": [
    "def get_simple_chain():\n",
    "    first = PrimaryNode(model_type='logit')\n",
    "    second = PrimaryNode(model_type='lda')\n",
    "    final = SecondaryNode(model_type='rf',\n",
    "                          nodes_from=[first, second])\n",
    "\n",
    "    chain = Chain(final)\n",
    "\n",
    "    return chain"
   ]
  },
  {
   "cell_type": "code",
   "execution_count": 23,
   "metadata": {},
   "outputs": [],
   "source": [
    "train_file_path = r'./examples/data/creditcard_scaling/train.csv'\n",
    "test_file_path = r'./examples/data/creditcard_scaling/test.csv'"
   ]
  },
  {
   "cell_type": "code",
   "execution_count": 24,
   "metadata": {},
   "outputs": [],
   "source": [
    "train_data = InputData.from_csv(train_file_path)\n",
    "test_data = InputData.from_csv(test_file_path)"
   ]
  },
  {
   "cell_type": "code",
   "execution_count": 25,
   "metadata": {},
   "outputs": [],
   "source": [
    "chain = get_simple_chain()"
   ]
  },
  {
   "cell_type": "code",
   "execution_count": 26,
   "metadata": {},
   "outputs": [],
   "source": [
    "chain.fit(train_data, use_cache=False);"
   ]
  },
  {
   "cell_type": "code",
   "execution_count": 27,
   "metadata": {},
   "outputs": [],
   "source": [
    "before_tuning_predicted = chain.predict(test_data)"
   ]
  },
  {
   "cell_type": "code",
   "execution_count": 28,
   "metadata": {},
   "outputs": [],
   "source": [
    "bfr_tun_roc_auc = round(roc_auc(y_true=test_data.target,\n",
    "                          y_score=before_tuning_predicted.predict), 4)\n",
    "\n",
    "p = round(precision_score(test_data.target,before_tuning_predicted.predict.round()), 4)\n",
    "r = round(recall_score(y_true=test_data.target, y_pred=before_tuning_predicted.predict.round()), 4)\n",
    "a = round(accuracy_score(y_true=test_data.target, y_pred=before_tuning_predicted.predict.round()),4 )\n",
    "f = round(f1_score(y_true=test_data.target, y_pred=before_tuning_predicted.predict.round()), 4)"
   ]
  },
  {
   "cell_type": "code",
   "execution_count": 29,
   "metadata": {},
   "outputs": [
    {
     "name": "stdout",
     "output_type": "stream",
     "text": [
      "ROC_AUC = 0.9027 \n",
      "PRECISION = 0.7245 \n",
      "RECALL = 0.7245 \n",
      "ACCURACY = 0.9991 \n",
      "f1_score = 0.7245\n"
     ]
    }
   ],
   "source": [
    "print(f'ROC_AUC = {bfr_tun_roc_auc} \\nPRECISION = {p} \\nRECALL = {r} \\nACCURACY = {a} \\nf1_score = {f}')"
   ]
  },
  {
   "cell_type": "markdown",
   "metadata": {},
   "source": [
    "## Single"
   ]
  },
  {
   "cell_type": "code",
   "execution_count": 30,
   "metadata": {},
   "outputs": [],
   "source": [
    "def get_simple_chain():\n",
    "    first = PrimaryNode(model_type='mlp')\n",
    "\n",
    "    chain = Chain(first)\n",
    "\n",
    "    return chain"
   ]
  },
  {
   "cell_type": "code",
   "execution_count": 31,
   "metadata": {},
   "outputs": [],
   "source": [
    "train_file_path = r'./examples/data/creditcard_scaling/train.csv'\n",
    "test_file_path = r'./examples/data/creditcard_scaling/test.csv'"
   ]
  },
  {
   "cell_type": "code",
   "execution_count": 32,
   "metadata": {},
   "outputs": [],
   "source": [
    "train_data = InputData.from_csv(train_file_path)\n",
    "test_data = InputData.from_csv(test_file_path)"
   ]
  },
  {
   "cell_type": "code",
   "execution_count": 33,
   "metadata": {},
   "outputs": [],
   "source": [
    "chain = get_simple_chain()"
   ]
  },
  {
   "cell_type": "code",
   "execution_count": 34,
   "metadata": {},
   "outputs": [],
   "source": [
    "chain.fit(train_data, use_cache=False);"
   ]
  },
  {
   "cell_type": "code",
   "execution_count": 35,
   "metadata": {},
   "outputs": [],
   "source": [
    "before_tuning_predicted = chain.predict(test_data)"
   ]
  },
  {
   "cell_type": "code",
   "execution_count": 36,
   "metadata": {},
   "outputs": [],
   "source": [
    "bfr_tun_roc_auc = round(roc_auc(y_true=test_data.target,\n",
    "                          y_score=before_tuning_predicted.predict), 4)\n",
    "\n",
    "p = round(precision_score(test_data.target,before_tuning_predicted.predict.round()), 4)\n",
    "r = round(recall_score(y_true=test_data.target, y_pred=before_tuning_predicted.predict.round()), 4)\n",
    "a = round(accuracy_score(y_true=test_data.target, y_pred=before_tuning_predicted.predict.round()),4 )\n",
    "f = round(f1_score(y_true=test_data.target, y_pred=before_tuning_predicted.predict.round()), 4)"
   ]
  },
  {
   "cell_type": "code",
   "execution_count": 37,
   "metadata": {},
   "outputs": [
    {
     "name": "stdout",
     "output_type": "stream",
     "text": [
      "ROC_AUC = 0.9609 \n",
      "PRECISION = 0.9286 \n",
      "RECALL = 0.7959 \n",
      "ACCURACY = 0.9995 \n",
      "f1_score = 0.8571\n"
     ]
    }
   ],
   "source": [
    "print(f'ROC_AUC = {bfr_tun_roc_auc} \\nPRECISION = {p} \\nRECALL = {r} \\nACCURACY = {a} \\nf1_score = {f}')"
   ]
  },
  {
   "cell_type": "markdown",
   "metadata": {},
   "source": [
    "# BalancedUnder"
   ]
  },
  {
   "cell_type": "markdown",
   "metadata": {},
   "source": [
    "## Composit"
   ]
  },
  {
   "cell_type": "code",
   "execution_count": 38,
   "metadata": {},
   "outputs": [],
   "source": [
    "def get_simple_chain():\n",
    "    first = PrimaryNode(model_type='rf')\n",
    "    second = PrimaryNode(model_type='svc')\n",
    "    final = SecondaryNode(model_type='rf',\n",
    "                          nodes_from=[first, second])\n",
    "\n",
    "    chain = Chain(final)\n",
    "\n",
    "    return chain"
   ]
  },
  {
   "cell_type": "code",
   "execution_count": 39,
   "metadata": {},
   "outputs": [],
   "source": [
    "train_file_path = r'./examples/data/creditcard_scaling_underSample/train.csv'\n",
    "test_file_path = r'./examples/data/creditcard_scaling_underSample/test.csv'"
   ]
  },
  {
   "cell_type": "code",
   "execution_count": 40,
   "metadata": {},
   "outputs": [],
   "source": [
    "train_data = InputData.from_csv(train_file_path)\n",
    "test_data = InputData.from_csv(test_file_path)"
   ]
  },
  {
   "cell_type": "code",
   "execution_count": 41,
   "metadata": {},
   "outputs": [],
   "source": [
    "chain = get_simple_chain()"
   ]
  },
  {
   "cell_type": "code",
   "execution_count": 42,
   "metadata": {},
   "outputs": [],
   "source": [
    "chain.fit(train_data, use_cache=False);"
   ]
  },
  {
   "cell_type": "code",
   "execution_count": 43,
   "metadata": {},
   "outputs": [],
   "source": [
    "before_tuning_predicted = chain.predict(test_data)"
   ]
  },
  {
   "cell_type": "code",
   "execution_count": 44,
   "metadata": {},
   "outputs": [],
   "source": [
    "bfr_tun_roc_auc = round(roc_auc(y_true=test_data.target,\n",
    "                          y_score=before_tuning_predicted.predict), 4)\n",
    "\n",
    "p = round(precision_score(test_data.target,before_tuning_predicted.predict.round()), 4)\n",
    "r = round(recall_score(y_true=test_data.target, y_pred=before_tuning_predicted.predict.round()), 4)\n",
    "a = round(accuracy_score(y_true=test_data.target, y_pred=before_tuning_predicted.predict.round()),4 )\n",
    "f = round(f1_score(y_true=test_data.target, y_pred=before_tuning_predicted.predict.round()), 4)"
   ]
  },
  {
   "cell_type": "code",
   "execution_count": 45,
   "metadata": {},
   "outputs": [
    {
     "name": "stdout",
     "output_type": "stream",
     "text": [
      "ROC_AUC = 0.9755 \n",
      "PRECISION = 0.9651 \n",
      "RECALL = 0.954 \n",
      "ACCURACY = 0.9645 \n",
      "f1_score = 0.9595\n"
     ]
    }
   ],
   "source": [
    "print(f'ROC_AUC = {bfr_tun_roc_auc} \\nPRECISION = {p} \\nRECALL = {r} \\nACCURACY = {a} \\nf1_score = {f}')"
   ]
  },
  {
   "cell_type": "markdown",
   "metadata": {},
   "source": [
    "## Single"
   ]
  },
  {
   "cell_type": "code",
   "execution_count": 46,
   "metadata": {},
   "outputs": [],
   "source": [
    "def get_simple_chain():\n",
    "    first = PrimaryNode(model_type='mlp')\n",
    "\n",
    "    chain = Chain(first)\n",
    "\n",
    "    return chain"
   ]
  },
  {
   "cell_type": "code",
   "execution_count": 47,
   "metadata": {},
   "outputs": [],
   "source": [
    "train_file_path = r'./examples/data/creditcard_scaling_underSample/train.csv'\n",
    "test_file_path = r'./examples/data/creditcard_scaling_underSample/test.csv'"
   ]
  },
  {
   "cell_type": "code",
   "execution_count": 48,
   "metadata": {},
   "outputs": [],
   "source": [
    "train_data = InputData.from_csv(train_file_path)\n",
    "test_data = InputData.from_csv(test_file_path)"
   ]
  },
  {
   "cell_type": "code",
   "execution_count": 49,
   "metadata": {},
   "outputs": [],
   "source": [
    "chain = get_simple_chain()"
   ]
  },
  {
   "cell_type": "code",
   "execution_count": 50,
   "metadata": {},
   "outputs": [],
   "source": [
    "chain.fit(train_data, use_cache=False);"
   ]
  },
  {
   "cell_type": "code",
   "execution_count": 51,
   "metadata": {},
   "outputs": [],
   "source": [
    "before_tuning_predicted = chain.predict(test_data)"
   ]
  },
  {
   "cell_type": "code",
   "execution_count": 52,
   "metadata": {},
   "outputs": [],
   "source": [
    "bfr_tun_roc_auc = round(roc_auc(y_true=test_data.target,\n",
    "                          y_score=before_tuning_predicted.predict), 4)\n",
    "\n",
    "p = round(precision_score(test_data.target,before_tuning_predicted.predict.round()), 4)\n",
    "r = round(recall_score(y_true=test_data.target, y_pred=before_tuning_predicted.predict.round()), 4)\n",
    "a = round(accuracy_score(y_true=test_data.target, y_pred=before_tuning_predicted.predict.round()),4 )\n",
    "f = round(f1_score(y_true=test_data.target, y_pred=before_tuning_predicted.predict.round()), 4)"
   ]
  },
  {
   "cell_type": "code",
   "execution_count": 53,
   "metadata": {},
   "outputs": [
    {
     "name": "stdout",
     "output_type": "stream",
     "text": [
      "ROC_AUC = 0.9886 \n",
      "PRECISION = 0.9762 \n",
      "RECALL = 0.9425 \n",
      "ACCURACY = 0.9645 \n",
      "f1_score = 0.9591\n"
     ]
    }
   ],
   "source": [
    "print(f'ROC_AUC = {bfr_tun_roc_auc} \\nPRECISION = {p} \\nRECALL = {r} \\nACCURACY = {a} \\nf1_score = {f}')"
   ]
  },
  {
   "cell_type": "code",
   "execution_count": null,
   "metadata": {},
   "outputs": [],
   "source": []
  },
  {
   "cell_type": "code",
   "execution_count": 64,
   "metadata": {},
   "outputs": [
    {
     "name": "stdout",
     "output_type": "stream",
     "text": [
      "Generation num: 0\n",
      "spent time: 1.8 min\n",
      "Best metric is -0.9956713333333334\n",
      "Generation num: 1\n",
      "spent time: 2.8 min\n",
      "Best metric is -0.9956713333333334\n",
      "Generation num: 2\n",
      "spent time: 3.5 min\n",
      "Best metric is -0.9956713333333334\n",
      "Generation num: 3\n",
      "spent time: 4.0 min\n",
      "Best metric is -0.9956713333333334\n",
      "Generation num: 4\n",
      "spent time: 4.5 min\n",
      "Best metric is -0.9956713333333334\n",
      "Generation num: 5\n",
      "spent time: 4.9 min\n",
      "Best metric is -0.9956713333333334\n",
      "Generation num: 6\n",
      "spent time: 5.4 min\n",
      "Best metric is -0.9956713333333334\n",
      "Composition time: 5.417 min\n",
      "Algorithm was terminated due to processing time limit\n",
      "GP composition finished\n",
      "ROC AUC metric = 0.9889 \n",
      "ROC_AUC_ALL = 0.9889 \n",
      "PRECISION = 0.9878 \n",
      "RECALL = 0.931 \n",
      "ACCURACY = 0.9645 \n",
      "F1_SCORE = 0.9586\n"
     ]
    },
    {
     "data": {
      "image/png": "[encoded data removed]",
      "text/plain": [
       "<Figure size 720x1152 with 1 Axes>"
      ]
     },
     "metadata": {},
     "output_type": "display_data"
    }
   ],
   "source": [
    "file_path_first = r'./creditcard_scaling_underSample.csv'\n",
    "# file_path_first = r'./creditcard_under.csv'\n",
    "# file_path_first = r'./creditcard.csv'\n",
    "\n",
    "#examples/utils.py replace read_excel => read_csv\n",
    "train_file_path, test_file_path = create_multi_clf_examples_from_excel(file_path_first)\n",
    "test_data = InputData.from_csv(test_file_path)\n",
    "#Error!!!!\n",
    "fitted_model = get_model(train_file_path)\n",
    "\n",
    "ComposerVisualiser.visualise(fitted_model, save_path = f'./model9.jpg')\n",
    "\n",
    "r1, r2, p, r, a, f = validate_model_quality(fitted_model, test_file_path)\n",
    "print(f'ROC AUC metric = {r1} \\nROC_AUC_ALL = {r2} \\nPRECISION = {p} \\nRECALL = {r} \\nACCURACY = {a} \\nF1_SCORE = {f}')\n",
    "\n",
    "#0.972 "
   ]
  },
  {
   "cell_type": "code",
   "execution_count": null,
   "metadata": {},
   "outputs": [],
   "source": [
    "Профайлер на каких трех секундах тратиться"
   ]
  }
 ],
 "metadata": {
  "kernelspec": {
   "display_name": "Python 3",
   "language": "python",
   "name": "python3"
  },
  "language_info": {
   "codemirror_mode": {
    "name": "ipython",
    "version": 3
   },
   "file_extension": ".py",
   "mimetype": "text/x-python",
   "name": "python",
   "nbconvert_exporter": "python",
   "pygments_lexer": "ipython3",
   "version": "3.7.8"
  }
 },
 "nbformat": 4,
 "nbformat_minor": 4
}
